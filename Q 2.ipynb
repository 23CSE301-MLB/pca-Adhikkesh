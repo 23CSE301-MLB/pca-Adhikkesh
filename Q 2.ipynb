{
 "cells": [
  {
   "cell_type": "code",
   "execution_count": 6,
   "id": "07d0be6c-6a96-4501-847c-e1f52c943049",
   "metadata": {},
   "outputs": [],
   "source": [
    "import pandas as pd\n",
    "import numpy as np\n",
    "import matplotlib.pyplot as plt\n",
    "from mpl_toolkits.mplot3d import Axes3D\n",
    "from sklearn.preprocessing import StandardScaler\n",
    "from sklearn.decomposition import PCA\n",
    "import requests\n",
    "import zipfile\n",
    "import io"
   ]
  },
  {
   "cell_type": "code",
   "execution_count": null,
   "id": "af45db7c-11c0-4d67-82d1-2fcdcf1f09c5",
   "metadata": {},
   "outputs": [],
   "source": [
    "url = 'https://archive.ics.uci.edu/ml/machine-learning-databases/00240/UCI%20HAR%20Dataset.zip'\n",
    "r = requests.get(url, allow_redirects=True)\n",
    "z = zipfile.ZipFile(io.BytesIO(r.content))\n",
    "\n",
    "path = 'UCI HAR Dataset/'\n",
    "features_path = path + 'features.txt'\n",
    "activity_labels_path = path + 'activity_labels.txt'\n",
    "x_train_path = path + 'train/X_train.txt'\n",
    "y_train_path = path + 'train/y_train.txt'\n",
    "x_test_path = path + 'test/X_test.txt'\n",
    "y_test_path = path + 'test/y_test.txt'\n",
    "\n",
    "features = pd.read_csv(z.open(features_path), sep=' ', header=None, names=['id', 'name'])\n",
    "feature_names = features['name'].tolist()\n",
    "activity_labels = pd.read_csv(z.open(activity_labels_path), sep=' ', header=None, names=['id', 'activity'])\n",
    "\n",
    "X_train = pd.read_csv(z.open(x_train_path), delim_whitespace=True, header=None, names=feature_names)\n",
    "y_train = pd.read_csv(z.open(y_train_path), header=None, names=['activity_id'])\n",
    "\n",
    "X_test = pd.read_csv(z.open(x_test_path), delim_whitespace=True, header=None, names=feature_names)\n",
    "y_test = pd.read_csv(z.open(y_test_path), header=None, names=['activity_id'])\n",
    "\n",
    "X = pd.concat([X_train, X_test], axis=0)\n",
    "y = pd.concat([y_train, y_test], axis=0)\n",
    "\n",
    "y = y.merge(activity_labels, left_on='activity_id', right_on='id')['activity']\n",
    "\n",
    "print(\"Dataset Shape:\")\n",
    "print(X.shape)\n",
    "\n",
    "print(\"\\nClass Distribution:\")\n",
    "print(y.value_counts())"
   ]
  },
  {
   "cell_type": "code",
   "execution_count": null,
   "id": "58a70f4f-cda0-4204-be3d-eacf8f7403d4",
   "metadata": {},
   "outputs": [],
   "source": [
    "scaler = StandardScaler()\n",
    "X_scaled = scaler.fit_transform(X)"
   ]
  },
  {
   "cell_type": "code",
   "execution_count": null,
   "id": "c5c9d88c-efc6-4848-baac-91fcbabdc22f",
   "metadata": {},
   "outputs": [],
   "source": [
    "pca_full = PCA()\n",
    "pca_full.fit(X_scaled)\n",
    "\n",
    "cumulative_variance = np.cumsum(pca_full.explained_variance_ratio_)\n",
    "\n",
    "# Find components for 90% and 95% variance\n",
    "n_components_90 = np.where(cumulative_variance >= 0.90)[0][0] + 1\n",
    "n_components_95 = np.where(cumulative_variance >= 0.95)[0][0] + 1\n",
    "\n",
    "print(f\"Components to retain 90% variance: {n_components_90}\")\n",
    "print(f\"Components to retain 95% variance: {n_components_95}\")"
   ]
  },
  {
   "cell_type": "code",
   "execution_count": null,
   "id": "b4b542ed-2f80-44ce-9407-3865e035f8e9",
   "metadata": {},
   "outputs": [],
   "source": [
    "plt.figure(figsize=(12, 8))\n",
    "plt.plot(range(1, len(cumulative_variance) + 1), cumulative_variance, marker='.', linestyle='-')\n",
    "plt.axhline(y=0.90, color='r', linestyle='--', label='90% Variance Threshold')\n",
    "plt.axhline(y=0.95, color='g', linestyle='--', label='95% Variance Threshold')\n",
    "plt.title('Cumulative Explained Variance by Principal Components')\n",
    "plt.xlabel('Number of Principal Components')\n",
    "plt.ylabel('Cumulative Explained Variance')\n",
    "plt.grid()\n",
    "plt.legend()\n",
    "plt.show()"
   ]
  },
  {
   "cell_type": "code",
   "execution_count": null,
   "id": "4f6fc409-d610-40cf-b3d7-4a117917a0ac",
   "metadata": {},
   "outputs": [],
   "source": [
    "pca_2d = PCA(n_components=2)\n",
    "X_pca_2d = pca_2d.fit_transform(X_scaled)\n",
    "pca_2d_df = pd.DataFrame(data=X_pca_2d, columns=['PC1', 'PC2'])\n",
    "pca_2d_df['activity'] = y.values\n",
    "\n",
    "plt.figure(figsize=(12, 9))\n",
    "targets = activity_labels['activity'].tolist()\n",
    "for activity in targets:\n",
    "    subset = pca_2d_df[pca_2d_df['activity'] == activity]\n",
    "    plt.scatter(subset['PC1'], subset['PC2'], label=activity, alpha=0.7)\n",
    "\n",
    "plt.xlabel('Principal Component 1')\n",
    "plt.ylabel('Principal Component 2')\n",
    "plt.title('2D PCA of HAR Dataset')\n",
    "plt.legend(bbox_to_anchor=(1.05, 1), loc='upper left')\n",
    "plt.grid()\n",
    "plt.show()"
   ]
  },
  {
   "cell_type": "code",
   "execution_count": null,
   "id": "700eecec-c5ca-481c-a1e9-fc5f7bb10ea0",
   "metadata": {},
   "outputs": [],
   "source": [
    "pca_3d = PCA(n_components=3)\n",
    "X_pca_3d = pca_3d.fit_transform(X_scaled)\n",
    "pca_3d_df = pd.DataFrame(data=X_pca_3d, columns=['PC1', 'PC2', 'PC3'])\n",
    "pca_3d_df['activity'] = y.values\n",
    "\n",
    "fig = plt.figure(figsize=(12, 10))\n",
    "ax = fig.add_subplot(111, projection='3d')\n",
    "\n",
    "targets = activity_labels['activity'].tolist()\n",
    "for activity in targets:\n",
    "    subset = pca_3d_df[pca_3d_df['activity'] == activity]\n",
    "    ax.scatter(subset['PC1'], subset['PC2'], subset['PC3'], label=activity)\n",
    "\n",
    "ax.set_xlabel('Principal Component 1')\n",
    "ax.set_ylabel('Principal Component 2')\n",
    "ax.set_zlabel('Principal Component 3')\n",
    "ax.set_title('3D PCA of HAR Dataset')\n",
    "ax.legend(bbox_to_anchor=(1.1, 1), loc='upper left')\n",
    "plt.show()"
   ]
  },
  {
   "cell_type": "code",
   "execution_count": null,
   "id": "b73f5dd9-3428-41c9-949d-72e1cac6d84e",
   "metadata": {},
   "outputs": [],
   "source": []
  }
 ],
 "metadata": {
  "kernelspec": {
   "display_name": "Python 3 (ipykernel)",
   "language": "python",
   "name": "python3"
  },
  "language_info": {
   "codemirror_mode": {
    "name": "ipython",
    "version": 3
   },
   "file_extension": ".py",
   "mimetype": "text/x-python",
   "name": "python",
   "nbconvert_exporter": "python",
   "pygments_lexer": "ipython3",
   "version": "3.13.5"
  }
 },
 "nbformat": 4,
 "nbformat_minor": 5
}
